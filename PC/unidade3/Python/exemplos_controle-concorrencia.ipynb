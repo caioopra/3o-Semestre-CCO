{
 "cells": [
  {
   "cell_type": "markdown",
   "metadata": {},
   "source": [
    "#### Exemplo de uso de Lock"
   ]
  },
  {
   "cell_type": "code",
   "execution_count": 3,
   "metadata": {},
   "outputs": [
    {
     "name": "stdout",
     "output_type": "stream",
     "text": [
      "NF no. 1\n",
      "NF no. 2\n",
      "NF no. 3\n",
      "NF no. 4\n",
      "NF no. 5\n",
      "NF no. 6\n",
      "NF no. 7\n",
      "NF no. 8\n",
      "NF no. 9\n",
      "NF no. 10\n"
     ]
    }
   ],
   "source": [
    "from threading import Thread, Lock\n",
    "\n",
    "\n",
    "def gera_nf_com_lock():\n",
    "    global cont_nf\n",
    "    lock.acquire()\n",
    "\n",
    "    prox_nf = cont_nf + 1\n",
    "    print(f\"NF no. {str(prox_nf)}\\n\", end=\"\")\n",
    "    cont_nf += 1\n",
    "\n",
    "    lock.release()\n",
    "\n",
    "\n",
    "cont_nf = 0\n",
    "lock = Lock()\n",
    "threads = [Thread(target=gera_nf_com_lock) for _ in range(10)]\n",
    "\n",
    "for thread in threads:\n",
    "    thread.start()\n",
    "for thread in threads:\n",
    "    thread.join()\n"
   ]
  },
  {
   "cell_type": "code",
   "execution_count": 4,
   "metadata": {},
   "outputs": [],
   "source": [
    "# usando with, lock é travado quando entra no bloco e liberado no final\n",
    "\n",
    "from threading import Thread, Lock\n",
    "\n",
    "\n",
    "def gera_nf_com_lock():\n",
    "    global cont_nf\n",
    "\n",
    "    with lock:\n",
    "        prox_nf = cont_nf + 1\n",
    "        print(f\"NF no. {str(prox_nf)}\\n\", end=\"\")\n",
    "        cont_nf += 1\n"
   ]
  },
  {
   "cell_type": "markdown",
   "metadata": {},
   "source": [
    "#### Exemplo produtor-consumidor usando <b>Condition</b>"
   ]
  },
  {
   "cell_type": "code",
   "execution_count": 5,
   "metadata": {},
   "outputs": [
    {
     "name": "stdout",
     "output_type": "stream",
     "text": [
      "Produzido item 0 (há 1 itens no buffer\n",
      "Consumido item 0 (há 0 items no buffer\n",
      ">>> Buffer vazio. Consumidor aguardando\n",
      "Produzido item 1 (há 1 itens no buffer\n",
      "Produzido item 2 (há 2 itens no buffer\n",
      "Produzido item 3 (há 3 itens no buffer\n",
      "Consumido item 1 (há 2 items no buffer\n",
      "Produzido item 4 (há 3 itens no buffer\n",
      "Consumido item 2 (há 2 items no buffer\n",
      "Consumido item 3 (há 1 items no buffer\n",
      "Produzido item 5 (há 2 itens no buffer\n",
      "Consumido item 4 (há 1 items no buffer\n",
      "Consumido item 5 (há 0 items no buffer\n",
      "Produzido item 6 (há 1 itens no buffer\n",
      "Consumido item 6 (há 0 items no buffer\n",
      "Produzido item 7 (há 1 itens no buffer\n",
      "Produzido item 8 (há 2 itens no buffer\n",
      "Consumido item 7 (há 1 items no buffer\n",
      "Consumido item 8 (há 0 items no buffer\n",
      "Produzido item 9 (há 1 itens no buffer\n",
      "Consumido item 9 (há 0 items no buffer\n"
     ]
    }
   ],
   "source": [
    "from time import sleep\n",
    "from random import randint\n",
    "from threading import Thread, Lock, Condition\n",
    "\n",
    "\n",
    "def produtor():\n",
    "    global buffer\n",
    "\n",
    "    for i in range(10):\n",
    "        sleep(randint(0, 2))\n",
    "        item = f\"item {i}\"\n",
    "\n",
    "        with lock:\n",
    "            if len(buffer) == tam_buffer:\n",
    "                print(\">>> Buffer cheio. Produtor aguardando\")\n",
    "                lugar_no_buffer.wait()  # esperando ter lugar no buffer\n",
    "\n",
    "            buffer.append(item)\n",
    "            print(f\"Produzido {item} (há {len(buffer)} itens no buffer\")\n",
    "            item_no_buffer.notify()  # informa que produziu para poder ocnsumir\n",
    "\n",
    "\n",
    "def consumidor():\n",
    "    global buffer\n",
    "    \n",
    "    for i in range(10):\n",
    "        with lock:  \n",
    "            if (len(buffer) == 0):\n",
    "                print(\">>> Buffer vazio. Consumidor aguardando\")\n",
    "                item_no_buffer.wait()\n",
    "            \n",
    "            item = buffer.pop(0)\n",
    "            print(f\"Consumido {item} (há {len(buffer)} items no buffer\")\n",
    "            lugar_no_buffer.notify()\n",
    "            \n",
    "        sleep(randint(0, 2))\n",
    "\n",
    "\n",
    "buffer = []\n",
    "tam_buffer = 3\n",
    "\n",
    "lock = Lock()\n",
    "lugar_no_buffer = Condition(lock)\n",
    "item_no_buffer = Condition(lock)\n",
    "produtor = Thread(target=produtor)\n",
    "consumidor = Thread(target=consumidor)\n",
    "\n",
    "produtor.start()\n",
    "consumidor.start()\n",
    "produtor.join()\n",
    "consumidor.join()\n"
   ]
  },
  {
   "cell_type": "markdown",
   "metadata": {},
   "source": [
    "#### Semaphore"
   ]
  },
  {
   "cell_type": "code",
   "execution_count": 2,
   "metadata": {},
   "outputs": [
    {
     "name": "stdout",
     "output_type": "stream",
     "text": [
      "Thread 0 usando licensa\n",
      "Thread 1 usando licensa\n",
      "Thread 1 acabou de usar uma licensa\n",
      "Thread 2 usando licensa\n",
      "Thread 0 acabou de usar uma licensa\n",
      "Thread 3 usando licensa\n",
      "Thread 3 acabou de usar uma licensa\n",
      "Thread 2 acabou de usar uma licensa\n",
      "Thread 5 usando licensa\n",
      "Thread 4 usando licensa\n",
      "Thread 5 acabou de usar uma licensa\n",
      "Thread 4 acabou de usar uma licensa\n",
      "Thread 6 usando licensa\n",
      "Thread 7 usando licensa\n",
      "Thread 6 acabou de usar uma licensa\n",
      "Thread 8 usando licensa\n",
      "Thread 7 acabou de usar uma licensa\n",
      "Thread 9 usando licensa\n",
      "Thread 8 acabou de usar uma licensa\n",
      "Thread 9 acabou de usar uma licensa\n"
     ]
    }
   ],
   "source": [
    "from time import sleep\n",
    "from threading import Thread, Semaphore\n",
    "\n",
    "\n",
    "def usa_licensa(i):\n",
    "    sem.acquire()\n",
    "    print(f\"Thread {i} usando licensa\\n\", end=\"\")\n",
    "    sleep(2)\n",
    "    print(f\"Thread {i} acabou de usar uma licensa\\n\", end=\"\")\n",
    "    sem.release()\n",
    "    \n",
    "num_licensas = 2\n",
    "sem = Semaphore(num_licensas)\n",
    "threads = [Thread(target=usa_licensa, args=(i,)) for i in range(10)]\n",
    "\n",
    "for thread in threads:\n",
    "    thread.start()\n",
    "for thread in threads:\n",
    "    thread.join()"
   ]
  }
 ],
 "metadata": {
  "kernelspec": {
   "display_name": "Python 3.10.6 64-bit",
   "language": "python",
   "name": "python3"
  },
  "language_info": {
   "codemirror_mode": {
    "name": "ipython",
    "version": 3
   },
   "file_extension": ".py",
   "mimetype": "text/x-python",
   "name": "python",
   "nbconvert_exporter": "python",
   "pygments_lexer": "ipython3",
   "version": "3.10.6"
  },
  "orig_nbformat": 4,
  "vscode": {
   "interpreter": {
    "hash": "916dbcbb3f70747c44a77c7bcd40155683ae19c65e1c03b4aa3499c5328201f1"
   }
  }
 },
 "nbformat": 4,
 "nbformat_minor": 2
}
