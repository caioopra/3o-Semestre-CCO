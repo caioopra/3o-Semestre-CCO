{
 "cells": [
  {
   "cell_type": "markdown",
   "metadata": {},
   "source": [
    "#### Comunicação usando Pipe"
   ]
  },
  {
   "cell_type": "code",
   "execution_count": 1,
   "metadata": {},
   "outputs": [
    {
     "name": "stdout",
     "output_type": "stream",
     "text": [
      "Executando operação: soma\n",
      "Resultado: 300\n"
     ]
    }
   ],
   "source": [
    "from multiprocessing import Process, Pipe\n",
    "\n",
    "\n",
    "def calc(conn):\n",
    "    (op, i, j) = conn.recv()\n",
    "    \n",
    "    if (op == \"soma\"):\n",
    "        print(\"Executando operação:\", op)\n",
    "        conn.send(i+j)\n",
    "    else:\n",
    "        conn.send(\"Operação desconhecida\")\n",
    "    conn.close()\n",
    "\n",
    "\n",
    "conn1, conn2 = Pipe(duplex=True)\n",
    "p = Process(target=calc, args=(conn2, ))\n",
    "p.start()\n",
    "conn1.send([\"soma\", 100, 200])\n",
    "res = conn1.recv()\n",
    "\n",
    "print(\"Resultado:\", res)\n",
    "\n",
    "p.join()"
   ]
  },
  {
   "cell_type": "markdown",
   "metadata": {},
   "source": [
    "#### Exemplo de uso de fila de mensagens"
   ]
  },
  {
   "cell_type": "code",
   "execution_count": 1,
   "metadata": {},
   "outputs": [
    {
     "name": "stdout",
     "output_type": "stream",
     "text": [
      "Enviando mensagem  Teste 1\n",
      "Enviando mensagem  Teste 2\n",
      "Enviando mensagem  Teste 3\n",
      "Enviando mensagem  Teste 4\n",
      "Enviando mensagem  Teste 5\n",
      "Enviando mensagem  Teste 6\n",
      "Enviando mensagem  Teste 7\n",
      "Enviando mensagem  Teste 8\n",
      "Enviando mensagem  Teste 9\n",
      "Mensagem recebida  Teste 1\n",
      "Mensagem recebida  Teste 2\n",
      "Mensagem recebida  Teste 3\n",
      "Mensagem recebida  Teste 4\n",
      "Mensagem recebida  Teste 5\n",
      "Mensagem recebida  Teste 6\n",
      "Mensagem recebida  Teste 7\n",
      "Mensagem recebida  Teste 8\n",
      "Mensagem recebida  Teste 9\n"
     ]
    }
   ],
   "source": [
    "from multiprocessing import Process, Queue\n",
    "\n",
    "\n",
    "def consumidor(fila):\n",
    "    while not fila.empty():\n",
    "        msg = fila.get()\n",
    "        print(\"Mensagem recebida \", msg)\n",
    "\n",
    "\n",
    "fila = Queue()\n",
    "cons = Process(target=consumidor, args=(fila, ))\n",
    "\n",
    "for i in range(1, 10):\n",
    "    msg = f\"Teste {i}\"\n",
    "    print(\"Enviando mensagem \", msg)\n",
    "    fila.put(msg)\n",
    "    \n",
    "cons.start()\n",
    "cons.join()\n",
    "fila.close()\n",
    "fila.join_thread()"
   ]
  },
  {
   "cell_type": "markdown",
   "metadata": {},
   "source": [
    "#### Memória compartilhada"
   ]
  },
  {
   "cell_type": "code",
   "execution_count": 3,
   "metadata": {},
   "outputs": [
    {
     "name": "stdout",
     "output_type": "stream",
     "text": [
      "Valor inicial:  1.99\n",
      "Array inicial:  [0, 1, 2, 3, 4]\n",
      "Valor final:  3.98\n",
      "Array final:  [0, 2, 4, 6, 8]\n"
     ]
    },
    {
     "data": {
      "text/plain": [
       "<Synchronized wrapper for c_double(3.98)>"
      ]
     },
     "execution_count": 3,
     "metadata": {},
     "output_type": "execute_result"
    }
   ],
   "source": [
    "from multiprocessing import Process, Value, Array\n",
    "\n",
    "\n",
    "def double(v, a):\n",
    "    v.value = v.value * 2\n",
    "    for i in range(len(a)):\n",
    "        a[i] = a[i] * 2\n",
    "        \n",
    "\n",
    "val = Value(\"d\", 1.99)\n",
    "arr = Array(\"i\", range(5))\n",
    "\n",
    "print(\"Valor inicial: \", val.value)\n",
    "print(\"Array inicial: \", arr[:])\n",
    "\n",
    "p = Process(target=double, args=(val, arr))\n",
    "p.start()\n",
    "p.join()\n",
    "\n",
    "print(\"Valor final: \", val.value)\n",
    "print(\"Array final: \", arr[:])"
   ]
  }
 ],
 "metadata": {
  "kernelspec": {
   "display_name": "Python 3.10.6 64-bit",
   "language": "python",
   "name": "python3"
  },
  "language_info": {
   "codemirror_mode": {
    "name": "ipython",
    "version": 3
   },
   "file_extension": ".py",
   "mimetype": "text/x-python",
   "name": "python",
   "nbconvert_exporter": "python",
   "pygments_lexer": "ipython3",
   "version": "3.10.6"
  },
  "orig_nbformat": 4,
  "vscode": {
   "interpreter": {
    "hash": "916dbcbb3f70747c44a77c7bcd40155683ae19c65e1c03b4aa3499c5328201f1"
   }
  }
 },
 "nbformat": 4,
 "nbformat_minor": 2
}
