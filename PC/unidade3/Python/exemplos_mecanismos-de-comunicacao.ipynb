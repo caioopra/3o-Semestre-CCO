{
 "cells": [
  {
   "cell_type": "markdown",
   "metadata": {},
   "source": [
    "#### Comunicação usando Pipe"
   ]
  },
  {
   "cell_type": "code",
   "execution_count": 1,
   "metadata": {},
   "outputs": [
    {
     "name": "stdout",
     "output_type": "stream",
     "text": [
      "Executando operação: soma\n",
      "Resultado: 300\n"
     ]
    }
   ],
   "source": [
    "from multiprocessing import Process, Pipe\n",
    "\n",
    "\n",
    "def calc(conn):\n",
    "    (op, i, j) = conn.recv()\n",
    "    \n",
    "    if (op == \"soma\"):\n",
    "        print(\"Executando operação:\", op)\n",
    "        conn.send(i+j)\n",
    "    else:\n",
    "        conn.send(\"Operação desconhecida\")\n",
    "    conn.close()\n",
    "\n",
    "\n",
    "conn1, conn2 = Pipe(duplex=True)\n",
    "p = Process(target=calc, args=(conn2, ))\n",
    "p.start()\n",
    "conn1.send([\"soma\", 100, 200])\n",
    "res = conn1.recv()\n",
    "\n",
    "print(\"Resultado:\", res)\n",
    "\n",
    "p.join()"
   ]
  },
  {
   "cell_type": "markdown",
   "metadata": {},
   "source": [
    "#### Exemplo de uso de fila de mensagens"
   ]
  },
  {
   "cell_type": "code",
   "execution_count": null,
   "metadata": {},
   "outputs": [],
   "source": [
    "from multiprocessing import Process, Queue\n",
    "\n",
    "\n",
    "def consumidor(fila):\n",
    "    while not fila.empty():\n",
    "        msg = fila.get()\n",
    "        print(\"Mensagem recebida \", msg)\n",
    "\n",
    "\n",
    "fila = Queue()\n",
    "cons = Process(target=consumidor, args=(fila, ))\n",
    "\n",
    "for i in range(1, 10):\n",
    "    msg = f\"Teste {i}\"\n",
    "    print(\"Enviando mensagem \", msg)\n",
    "    fila.put(msg)\n",
    "    \n",
    "cons.start()\n",
    "cons.join()\n",
    "fila.close()\n",
    "fila.join_thread()"
   ]
  }
 ],
 "metadata": {
  "kernelspec": {
   "display_name": "Python 3.10.6 64-bit",
   "language": "python",
   "name": "python3"
  },
  "language_info": {
   "codemirror_mode": {
    "name": "ipython",
    "version": 3
   },
   "file_extension": ".py",
   "mimetype": "text/x-python",
   "name": "python",
   "nbconvert_exporter": "python",
   "pygments_lexer": "ipython3",
   "version": "3.10.6"
  },
  "orig_nbformat": 4,
  "vscode": {
   "interpreter": {
    "hash": "916dbcbb3f70747c44a77c7bcd40155683ae19c65e1c03b4aa3499c5328201f1"
   }
  }
 },
 "nbformat": 4,
 "nbformat_minor": 2
}
