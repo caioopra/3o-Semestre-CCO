{
 "cells": [
  {
   "cell_type": "code",
   "execution_count": 6,
   "metadata": {},
   "outputs": [
    {
     "name": "stdout",
     "output_type": "stream",
     "text": [
      "Proc1 inicou contagem de 5 segundos\n",
      "Proc2 inicou contagem de 4 segundos\n",
      "Proc1 inicou contagem de 4 segundos\n",
      "Proc2 inicou contagem de 3 segundos\n",
      "Proc1 inicou contagem de 3 segundos\n",
      "Proc2 inicou contagem de 2 segundos\n",
      "Proc1 inicou contagem de 2 segundos\n",
      "Proc2 inicou contagem de 1 segundos\n",
      "Proc1 inicou contagem de 1 segundos\n",
      "Proc2 tempo esgotado.\n",
      "Proc1 tempo esgotado.\n"
     ]
    }
   ],
   "source": [
    "from multiprocessing import Process\n",
    "from time import sleep\n",
    "\n",
    "def temporizador(proc: str, tempo: int):\n",
    "    while tempo:\n",
    "        print(f\"{proc} inicou contagem de {tempo} segundos\\n\", end='')\n",
    "        sleep(1)\n",
    "        tempo -= 1\n",
    "    print(f\"{proc} tempo esgotado.\")\n",
    "\n",
    "proc1 = Process(target=temporizador, args=(\"Proc1\", 5))\n",
    "proc2 = Process(target=temporizador, args=(\"Proc2\", 4))\n",
    "\n",
    "proc1.start()\n",
    "proc2.start()\n",
    "\n",
    "proc1.join()\n",
    "proc2.join()"
   ]
  },
  {
   "cell_type": "code",
   "execution_count": 8,
   "metadata": {},
   "outputs": [
    {
     "name": "stdout",
     "output_type": "stream",
     "text": [
      "Temporizador inicou contagem de 5 segundos\n",
      "Temporizador inicou contagem de 4 segundos\n",
      "Temporizador inicou contagem de 3 segundos\n"
     ]
    }
   ],
   "source": [
    "# Cancelando um processo\n",
    "from multiprocessing import Process\n",
    "from time import sleep\n",
    "\n",
    "def temporizador(proc: str, tempo: int):\n",
    "    while tempo:\n",
    "        print(f\"{proc} inicou contagem de {tempo} segundos\\n\", end='')\n",
    "        sleep(1)\n",
    "        tempo -= 1\n",
    "    print(f\"{proc} tempo esgotado.\")\n",
    "    \n",
    "proc = Process(target=temporizador, args=(\"Temporizador\", 5))\n",
    "proc.start()\n",
    "\n",
    "resp = input(\"Qualquer coisa: \")\n",
    "if proc.is_alive():\n",
    "    proc.terminate()"
   ]
  }
 ],
 "metadata": {
  "kernelspec": {
   "display_name": "Python 3.10.6 64-bit",
   "language": "python",
   "name": "python3"
  },
  "language_info": {
   "codemirror_mode": {
    "name": "ipython",
    "version": 3
   },
   "file_extension": ".py",
   "mimetype": "text/x-python",
   "name": "python",
   "nbconvert_exporter": "python",
   "pygments_lexer": "ipython3",
   "version": "3.10.6"
  },
  "orig_nbformat": 4,
  "vscode": {
   "interpreter": {
    "hash": "916dbcbb3f70747c44a77c7bcd40155683ae19c65e1c03b4aa3499c5328201f1"
   }
  }
 },
 "nbformat": 4,
 "nbformat_minor": 2
}
