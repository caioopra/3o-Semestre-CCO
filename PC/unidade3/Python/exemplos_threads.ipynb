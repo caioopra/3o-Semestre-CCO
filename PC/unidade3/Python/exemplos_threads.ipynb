{
 "cells": [
  {
   "cell_type": "code",
   "execution_count": 1,
   "metadata": {},
   "outputs": [],
   "source": [
    "from threading import Thread\n",
    "\n",
    "def le_nome():\n",
    "    nome = input(\"Seu nome: \")\n",
    "    print(f\"Olá {nome}\")\n",
    "   \n",
    "def calcula():\n",
    "    print(\"Cálculo iniciado\")\n",
    "    [(x**2) for x in range(10000000)]\n",
    "    print(\"Cálculo encerrado\") "
   ]
  },
  {
   "cell_type": "code",
   "execution_count": 2,
   "metadata": {},
   "outputs": [
    {
     "name": "stdout",
     "output_type": "stream",
     "text": [
      "Cálculo iniciado\n",
      "Cálculo encerrado\n",
      "Olá Caio\n"
     ]
    }
   ],
   "source": [
    "thread1 = Thread(target=le_nome)\n",
    "thread2 = Thread(target=calcula)\n",
    "thread1.start() # inicia thread1\n",
    "thread2.start() # inicia thread2\n",
    "thread1.join()  # espera fim da thread1\n",
    "thread2.join()  # espera fim da thread2"
   ]
  }
 ],
 "metadata": {
  "kernelspec": {
   "display_name": "Python 3.10.6 64-bit",
   "language": "python",
   "name": "python3"
  },
  "language_info": {
   "codemirror_mode": {
    "name": "ipython",
    "version": 3
   },
   "file_extension": ".py",
   "mimetype": "text/x-python",
   "name": "python",
   "nbconvert_exporter": "python",
   "pygments_lexer": "ipython3",
   "version": "3.10.6"
  },
  "orig_nbformat": 4,
  "vscode": {
   "interpreter": {
    "hash": "916dbcbb3f70747c44a77c7bcd40155683ae19c65e1c03b4aa3499c5328201f1"
   }
  }
 },
 "nbformat": 4,
 "nbformat_minor": 2
}
