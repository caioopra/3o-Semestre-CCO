{
 "cells": [
  {
   "cell_type": "code",
   "execution_count": 1,
   "metadata": {},
   "outputs": [
    {
     "name": "stdout",
     "output_type": "stream",
     "text": [
      "Olá \n",
      "Cálculo iniciado\n",
      "Cálculo encerrado\n",
      "Tempo total para execução: 4.028995037078857\n"
     ]
    }
   ],
   "source": [
    "from threading import Thread\n",
    "from time import time\n",
    "\n",
    "def le_nome():\n",
    "    nome = input(\"Seu nome: \")\n",
    "    print(f\"Olá {nome}\")\n",
    "   \n",
    "def calcula():\n",
    "    print(\"Cálculo iniciado\")\n",
    "    [(x**2) for x in range(10000000)]\n",
    "    print(\"Cálculo encerrado\") \n",
    "\n",
    "t = time()\n",
    "le_nome()\n",
    "calcula()\n",
    "print(f\"Tempo total para execução: {time() - t}\")"
   ]
  },
  {
   "cell_type": "code",
   "execution_count": 2,
   "metadata": {},
   "outputs": [
    {
     "name": "stdout",
     "output_type": "stream",
     "text": [
      "Cálculo iniciado\n",
      "Olá \n",
      "Cálculo encerrado\n",
      "Tempo total para execução concorrente: 2.2882070541381836\n"
     ]
    }
   ],
   "source": [
    "t = time()\n",
    "thread1 = Thread(target=le_nome)\n",
    "thread2 = Thread(target=calcula)\n",
    "thread1.start() # inicia thread1\n",
    "thread2.start() # inicia thread2\n",
    "thread1.join()  # espera fim da thread1\n",
    "thread2.join()  # espera fim da thread2\n",
    "\n",
    "print(f\"Tempo total para execução concorrente: {time() - t}\")"
   ]
  },
  {
   "cell_type": "code",
   "execution_count": 3,
   "metadata": {},
   "outputs": [
    {
     "name": "stdout",
     "output_type": "stream",
     "text": [
      "Cálculo iniciado\n",
      "Cálculo iniciado\n",
      "Cálculo iniciado\n",
      "Cálculo encerrado\n",
      "Cálculo encerrado\n",
      "Cálculo encerrado\n"
     ]
    }
   ],
   "source": [
    "# criando threads em laço\n",
    "t = []\n",
    "\n",
    "for i in range(3):\n",
    "    t.append(Thread(target=calcula))\n",
    "    t[i].start()\n",
    "\n",
    "for i in range(3):\n",
    "    t[i].join()"
   ]
  },
  {
   "cell_type": "markdown",
   "metadata": {},
   "source": [
    "#### Passando parâmetros para função da Thread"
   ]
  },
  {
   "cell_type": "code",
   "execution_count": 4,
   "metadata": {},
   "outputs": [
    {
     "name": "stdout",
     "output_type": "stream",
     "text": [
      "Cálculo iniciado para 0\n",
      "Cálculo finalizado para 0\n",
      "Cálculo iniciado para 1\n",
      "Cálculo finalizado para 1\n",
      "Cálculo iniciado para 2\n",
      "Cálculo finalizado para 2\n",
      "Fim dos cálculos!\n"
     ]
    }
   ],
   "source": [
    "def calcula_exp(i: int):\n",
    "    print(f\"Cálculo iniciado para {i}\")\n",
    "    [(x**i) for x in range(10000000)]\n",
    "    print(f\"Cálculo finalizado para {i}\")\n",
    "\n",
    "t = []\n",
    "for i in range(3):\n",
    "    #! EXECUÇÃO SEQUENCIAL!!\n",
    "    t.append(Thread(target=calcula_exp(i)))\n",
    "    t[i].start()\n",
    "for i in range(3):\n",
    "    t[i].join()\n",
    "print(\"Fim dos cálculos!\")"
   ]
  },
  {
   "cell_type": "code",
   "execution_count": 5,
   "metadata": {},
   "outputs": [
    {
     "name": "stdout",
     "output_type": "stream",
     "text": [
      "Cálculo iniciado para 0\n",
      "Cálculo iniciado para 1\n",
      "Cálculo iniciado para 2\n",
      "Cálculo finalizado para 0\n",
      "Cálculo finalizado para 2\n",
      "Cálculo finalizado para 1\n",
      "Fim dos cálculos!\n"
     ]
    }
   ],
   "source": [
    "t = []\n",
    "for i in range(3):\n",
    "    #! EXECUÇÃO SEQUENCIAL!!\n",
    "    t.append(Thread(target=calcula_exp, args=(i,)))\n",
    "    # forma alternativa:\n",
    "    # t.append(Thread(target=lambda: calcula_exp(i)))\n",
    "    t[i].start()\n",
    "for i in range(3):\n",
    "    t[i].join()\n",
    "print(\"Fim dos cálculos!\")"
   ]
  },
  {
   "cell_type": "markdown",
   "metadata": {},
   "source": [
    "#### Usando herança para redefinir \"Thread.run\""
   ]
  },
  {
   "cell_type": "code",
   "execution_count": 6,
   "metadata": {},
   "outputs": [
    {
     "name": "stdout",
     "output_type": "stream",
     "text": [
      "MyThread-0 iniciada!\n",
      "MyThread-0 está ativa\n",
      "MyThread-1 iniciada!\n",
      "MyThread-1 está ativa\n",
      "MyThread-2 iniciada!\n",
      "MyThread-2 está ativa\n",
      "MyThread-0 concluída!\n",
      "MyThread-0 terminou a execução!\n",
      "MyThread-1 concluída!\n",
      "MyThread-1 terminou a execução!\n",
      "MyThread-2 concluída!\n",
      "MyThread-2 terminou a execução!\n"
     ]
    }
   ],
   "source": [
    "from threading import Thread\n",
    "from time import sleep\n",
    "\n",
    "class MyThread(Thread):\n",
    "    def __init__(self, name: str, sleep_time: int):\n",
    "        self.sleep_time = sleep_time\n",
    "        super().__init__(name=name)\n",
    "    \n",
    "    # metodo executado pela thread (\"target\")\n",
    "    def run(self):\n",
    "        print(f\"{self.name} iniciada!\")\n",
    "        sleep(self.sleep_time)\n",
    "        print(f\"{self.name} concluída!\")\n",
    "\n",
    "\n",
    "t = []\n",
    "for i in range(3):\n",
    "    t.append(MyThread(name=f\"MyThread-{i}\", sleep_time=i+1))\n",
    "    t[i].start()\n",
    "    \n",
    "    if t[i].is_alive():\n",
    "        print(f\"{t[i].name} está ativa\" )\n",
    "\n",
    "for i in range(3):\n",
    "    t[i].join()\n",
    "    print(f\"{t[i].name} terminou a execução!\")"
   ]
  }
 ],
 "metadata": {
  "kernelspec": {
   "display_name": "Python 3.10.6 64-bit",
   "language": "python",
   "name": "python3"
  },
  "language_info": {
   "codemirror_mode": {
    "name": "ipython",
    "version": 3
   },
   "file_extension": ".py",
   "mimetype": "text/x-python",
   "name": "python",
   "nbconvert_exporter": "python",
   "pygments_lexer": "ipython3",
   "version": "3.10.6"
  },
  "orig_nbformat": 4,
  "vscode": {
   "interpreter": {
    "hash": "916dbcbb3f70747c44a77c7bcd40155683ae19c65e1c03b4aa3499c5328201f1"
   }
  }
 },
 "nbformat": 4,
 "nbformat_minor": 2
}
